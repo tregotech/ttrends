{
 "cells": [
  {
   "cell_type": "code",
   "execution_count": 1,
   "id": "d5a48335",
   "metadata": {},
   "outputs": [],
   "source": [
    "%load_ext autoreload\n",
    "%autoreload 2"
   ]
  },
  {
   "cell_type": "code",
   "execution_count": 6,
   "id": "a4eb3173",
   "metadata": {},
   "outputs": [],
   "source": [
    "from trends import search_trends"
   ]
  },
  {
   "cell_type": "code",
   "execution_count": 9,
   "id": "b4ef9c5a",
   "metadata": {},
   "outputs": [],
   "source": [
    "trend = search_trends()"
   ]
  },
  {
   "cell_type": "code",
   "execution_count": 13,
   "id": "31cb8a5c",
   "metadata": {},
   "outputs": [],
   "source": [
    "#result = trend.get_related(['apple'])\n",
    "#result"
   ]
  },
  {
   "cell_type": "code",
   "execution_count": null,
   "id": "fe544643",
   "metadata": {},
   "outputs": [],
   "source": []
  }
 ],
 "metadata": {
  "kernelspec": {
   "display_name": "ttrends",
   "language": "python",
   "name": "ttrends"
  },
  "language_info": {
   "codemirror_mode": {
    "name": "ipython",
    "version": 3
   },
   "file_extension": ".py",
   "mimetype": "text/x-python",
   "name": "python",
   "nbconvert_exporter": "python",
   "pygments_lexer": "ipython3",
   "version": "3.9.5"
  }
 },
 "nbformat": 4,
 "nbformat_minor": 5
}
